{
 "cells": [
  {
   "cell_type": "code",
   "execution_count": 1,
   "metadata": {},
   "outputs": [],
   "source": [
    "import pyautogui\n",
    "import subprocess\n",
    "import pandas as pd\n",
    "import time\n",
    "from datetime import datetime\n",
    "import os"
   ]
  },
  {
   "cell_type": "code",
   "execution_count": 47,
   "metadata": {},
   "outputs": [],
   "source": [
    "df=pd.read_csv('meeting_timings.csv')"
   ]
  },
  {
   "cell_type": "code",
   "execution_count": 45,
   "metadata": {
    "scrolled": true
   },
   "outputs": [],
   "source": [
    "def zoom_automation(meetid,password):\n",
    "    subprocess.call('C:/Users/neeru/AppData/Roaming/Zoom/bin/Zoom.exe')\n",
    "    x=pyautogui.locateCenterOnScreen('join.png',confidence = 0.9)\n",
    "    pyautogui.moveTo(x)\n",
    "    pyautogui.click()\n",
    "\n",
    "    x=pyautogui.locateCenterOnScreen('meeting.png',confidence = 0.9)\n",
    "\n",
    "    pyautogui.write(meetid)\n",
    "\n",
    "    x=pyautogui.locateCenterOnScreen('media.png',confidence = 0.9)\n",
    "    pyautogui.moveTo(x)\n",
    "    pyautogui.click()\n",
    "\n",
    "    x=pyautogui.locateCenterOnScreen('media.png',confidence = 0.9)\n",
    "    pyautogui.moveTo(x)\n",
    "    pyautogui.click()\n",
    "\n",
    "    x=pyautogui.locateCenterOnScreen('enter_meet.png',confidence = 0.9)\n",
    "    pyautogui.moveTo(x)\n",
    "    pyautogui.click()\n",
    "    time.sleep(5)\n",
    "\n",
    "    x=pyautogui.locateCenterOnScreen('enter_pass.jpg',confidence = 0.9)\n",
    "    pyautogui.moveTo(x)\n",
    "    pyautogui.click()\n",
    "    pyautogui.write(password)\n",
    "\n",
    "    x=pyautogui.locateCenterOnScreen('join_meet.jpg',confidence = 0.9)\n",
    "    pyautogui.moveTo(x)\n",
    "    pyautogui.click()"
   ]
  },
  {
   "cell_type": "code",
   "execution_count": null,
   "metadata": {},
   "outputs": [],
   "source": [
    "while(True):\n",
    "    now = datetime.now().strftime(\"%H:%M\")\n",
    "    if now in str(df['time']):\n",
    "\n",
    "       row = df.loc[df['time'] == now]\n",
    "       meet_id = str(row.iloc[0,1])\n",
    "       meet_pswd = str(row.iloc[0,2])\n",
    "\n",
    "       zoom_automation(meet_id, meet_pswd)\n",
    "       time.sleep(10)\n",
    "       print('Joined the meeting!')"
   ]
  }
 ],
 "metadata": {
  "kernelspec": {
   "display_name": "Python 3",
   "language": "python",
   "name": "python3"
  },
  "language_info": {
   "codemirror_mode": {
    "name": "ipython",
    "version": 3
   },
   "file_extension": ".py",
   "mimetype": "text/x-python",
   "name": "python",
   "nbconvert_exporter": "python",
   "pygments_lexer": "ipython3",
   "version": "3.8.5"
  }
 },
 "nbformat": 4,
 "nbformat_minor": 4
}
